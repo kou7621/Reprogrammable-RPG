{
 "cells": [
  {
   "cell_type": "markdown",
   "metadata": {},
   "source": [
    "# repro-rpg のデザイン案 ver. 0.3\n",
    "\n",
    "\n",
    "以下Battle Classに隠蔽されているコード\n",
    "遊ぶときは\n",
    "```\n",
    "imoprt repro-rpg\n",
    "```\n",
    "とかになる\n"
   ]
  },
  {
   "cell_type": "code",
   "execution_count": 384,
   "metadata": {},
   "outputs": [],
   "source": [
    "import numpy as np\n",
    "import pandas as pd\n",
    "import matplotlib.pyplot as plt\n",
    "import scipy\n",
    "import random\n",
    "from abc import ABCMeta, abstractmethod"
   ]
  },
  {
   "cell_type": "code",
   "execution_count": 385,
   "metadata": {},
   "outputs": [],
   "source": [
    "class Skill():\n",
    "    \n",
    "    @abstractmethod\n",
    "    def __init__(self):\n",
    "        self.name = ''\n",
    "        self.type = 'normal'\n",
    "        self.value = 1\n",
    "    \n",
    "    def __process__(self):\n",
    "        pass"
   ]
  },
  {
   "cell_type": "code",
   "execution_count": 386,
   "metadata": {},
   "outputs": [],
   "source": [
    "class NormalAttack(Skill):\n",
    "    def __init__(self):\n",
    "        self.name = '攻撃'\n",
    "        self.type = 'normal'\n",
    "        self.value = 30\n",
    "        \n",
    "    def description(self):\n",
    "        print('攻撃')\n",
    "        print('MP 消費なし')\n",
    "        print('1体に攻撃する')\n",
    "        print('攻撃力が上がる')\n",
    "\n",
    "    def process(self):\n",
    "        pass"
   ]
  },
  {
   "cell_type": "code",
   "execution_count": 387,
   "metadata": {},
   "outputs": [],
   "source": [
    "class GamblingAttack(Skill):\n",
    "    def __init__(self):\n",
    "        self.name = '魔人切り'\n",
    "        self.type = 'normal'\n",
    "        self.value = 30\n",
    "        \n",
    "    def description(self):\n",
    "        print('低命中率の防御無視強攻撃')\n",
    "        print('MP 消費なし')\n",
    "        print('1体に攻撃する')\n",
    "        \n",
    "        \n",
    "    def process(self):\n",
    "        pass"
   ]
  },
  {
   "cell_type": "code",
   "execution_count": 388,
   "metadata": {},
   "outputs": [],
   "source": [
    "class RollingAttack(Skill):\n",
    "    def __init__(self):\n",
    "        self.name = '回転攻撃'\n",
    "        self.type = 'normal'\n",
    "        self.value = 30\n",
    "        \n",
    "    def description(self):\n",
    "        print('回転攻撃')\n",
    "        print('MP 消費なし')\n",
    "        print('低威力で複数の敵に攻撃する')\n",
    "        print('すばやさがさがる')\n",
    "        \n",
    "        \n",
    "    def process(self):\n",
    "        pass"
   ]
  },
  {
   "cell_type": "code",
   "execution_count": 389,
   "metadata": {},
   "outputs": [],
   "source": [
    "class StrongAttack(Skill):\n",
    "    def __init__(self):\n",
    "        self.name = '強攻撃'\n",
    "        self.type = 'normal'\n",
    "        self.value = 100\n",
    "        \n",
    "    def description(self):\n",
    "        print('強攻撃')\n",
    "        print('MP 消費なし')\n",
    "        print('1体に攻撃する')\n",
    "        print('すばやさがさがる')\n",
    "        \n",
    "        \n",
    "    def process(self):\n",
    "        pass"
   ]
  },
  {
   "cell_type": "code",
   "execution_count": 390,
   "metadata": {},
   "outputs": [],
   "source": [
    "class Heal(Skill):\n",
    "    def __init__(self):\n",
    "        self.name = '回復'\n",
    "        self.type = 'recover'\n",
    "        self.value = 20\n",
    "        \n",
    "    def description(self):\n",
    "        print('回復')\n",
    "        print('MP 消費なし')\n",
    "        print('1体を回復する')\n",
    "        print('攻撃力がさがる')\n",
    "        \n",
    "        \n",
    "    def process(self):\n",
    "        pass"
   ]
  },
  {
   "cell_type": "code",
   "execution_count": null,
   "metadata": {},
   "outputs": [],
   "source": []
  },
  {
   "cell_type": "code",
   "execution_count": 391,
   "metadata": {},
   "outputs": [],
   "source": [
    "class BattleUnit():\n",
    "    def __init__(self):\n",
    "        self.health = 10\n",
    "        self.attack = 10\n",
    "        self.defence = 2\n",
    "        self.speed = 5\n",
    "        self.isPlayer = True\n",
    "        self.skills = None"
   ]
  },
  {
   "cell_type": "code",
   "execution_count": 402,
   "metadata": {},
   "outputs": [],
   "source": [
    "class Player(BattleUnit):\n",
    "    \n",
    "    def __init__(self, level=10):\n",
    "        self.name = 'オレサマ'\n",
    "        self.health = 10 + level * 1\n",
    "        self.attack = 8 + level * 1\n",
    "        self.defence = 1 + level * 1\n",
    "        self.speed = 5 + level * 1\n",
    "        self.isPlayer = True\n",
    "        self.skills =[NormalAttack(), StrongAttack(), Heal(), RollingAttack()]\n",
    "        "
   ]
  },
  {
   "cell_type": "code",
   "execution_count": 403,
   "metadata": {},
   "outputs": [],
   "source": [
    "class Enemy(BattleUnit):\n",
    "    \n",
    "    def __init__(self, level=1):\n",
    "        self.name = '敵 lv.' + str(level)\n",
    "        self.health = 10 + level * 1\n",
    "        self.attack = 5 + level * 1\n",
    "        self.defence = 1 + level * 0.2\n",
    "        self.speed = 2 + level * 1\n",
    "        self.isPlayer = False\n",
    "        self.skills =[NormalAttack()]\n",
    "    \n",
    "    def algorithm(self, battle_info):\n",
    "    # Basic Information\n",
    "        n_turn = battle_info.n_turn\n",
    "        units = battle_info.battle_units\n",
    "        my_index = battle_info.my_index\n",
    "        my_skill_list = [skill.name for skill in units[my_index].skills]    \n",
    "        enemies = [unit for unit in units if unit.isPlayer]\n",
    "    \n",
    "        # Random choice\n",
    "        target_enemy_index = np.random.randint(len(enemies))\n",
    "        target_index = units.index(enemies[target_enemy_index])\n",
    "        skill_index = np.random.randint(len(my_skill_list))\n",
    "    \n",
    "        return skill_index, [target_index] "
   ]
  },
  {
   "cell_type": "code",
   "execution_count": 404,
   "metadata": {},
   "outputs": [],
   "source": [
    "class DangerousEnemy(BattleUnit):\n",
    "    \n",
    "    def __init__(self, level=1):\n",
    "        self.name = '危ない敵 lv.' + str(level)\n",
    "        self.health = 1 + level * 1\n",
    "        self.attack = 10 + level * 3\n",
    "        self.defence = 1 + level * 1\n",
    "        self.speed = 1 + level * 2\n",
    "        self.isPlayer = False\n",
    "        self.skills =[NormalAttack()]\n",
    "    \n",
    "    def algorithm(self, battle_info):\n",
    "    # Basic Information\n",
    "        n_turn = battle_info.n_turn\n",
    "        units = battle_info.battle_units\n",
    "        my_index = battle_info.my_index\n",
    "        my_skill_list = [skill.name for skill in units[my_index].skills]    \n",
    "        enemies = [unit for unit in units if unit.isPlayer]\n",
    "    \n",
    "        # Random choice\n",
    "        target_enemy_index = np.random.randint(len(enemies))\n",
    "        target_index = units.index(enemies[target_enemy_index])\n",
    "        skill_index = np.random.randint(len(my_skill_list))\n",
    "    \n",
    "        return skill_index, [target_index] \n"
   ]
  },
  {
   "cell_type": "code",
   "execution_count": 405,
   "metadata": {},
   "outputs": [],
   "source": [
    "class HealerEnemy(BattleUnit):\n",
    "    \n",
    "    def __init__(self, level=1):\n",
    "        self.name = 'ヒーラー lv.' + str(level)\n",
    "        self.health = 1 + level * 2\n",
    "        self.attack = 10 + level * 1\n",
    "        self.defence = 3 + level * 1\n",
    "        self.speed = 1 + level * 1\n",
    "        self.isPlayer = False\n",
    "        self.skills =[NormalAttack(), Heal()]\n",
    "    \n",
    "    def algorithm(self, battle_info):\n",
    "    # Basic Information\n",
    "        n_turn = battle_info.n_turn\n",
    "        units = battle_info.battle_units\n",
    "        my_index = battle_info.my_index\n",
    "        my_skill_list = [skill.name for skill in units[my_index].skills]    \n",
    "        enemies = [unit for unit in units if unit.isPlayer]\n",
    "    \n",
    "        # Random choice\n",
    "        target_enemy_index = np.random.randint(len(enemies))\n",
    "        target_index = units.index(enemies[target_enemy_index])\n",
    "        skill_index = np.random.randint(len(my_skill_list))\n",
    "    \n",
    "        return skill_index, [target_index] \n",
    "\n"
   ]
  },
  {
   "cell_type": "code",
   "execution_count": null,
   "metadata": {},
   "outputs": [],
   "source": []
  },
  {
   "cell_type": "code",
   "execution_count": 406,
   "metadata": {},
   "outputs": [],
   "source": [
    "class Battle():\n",
    "    def __init__(self):\n",
    "        self.battle_units = []\n",
    "        self.finished = False\n",
    "        self.player_win = False\n",
    "        self.n_turn = 0\n",
    "        self.active_units = None\n",
    "        \n",
    "    def basic_algorithm(self):\n",
    "        skill = NormalAttack()\n",
    "        return skill\n",
    "        \n",
    "    def apply_unit(self, unit):\n",
    "        self.battle_units.append(unit)\n",
    "    \n",
    "    def current_battle_info(self):\n",
    "        return self.battle_units # tentative\n",
    "    \n",
    "    ## All information which user can use\n",
    "    class battle_info():\n",
    "        def __init__(self, Battle):\n",
    "            self.battle_units = Battle.battle_units\n",
    "            self.n_turn = Battle.n_turn\n",
    "            if Battle.n_turn != 0:\n",
    "                self.my_index = Battle.battle_units.index(Battle.active_unit)\n",
    "            else:\n",
    "                self.my_index = None\n",
    "                \n",
    "    def get_battle_info(self):\n",
    "        info = self.battle_info(self)\n",
    "        return info\n",
    "            \n",
    "    def skill_list(self):\n",
    "        return [skill.name for skill in self.battle_units[0].skills]\n",
    "\n",
    "    def apply_algorithm(self, func):\n",
    "        self.algorithm = func\n",
    "    \n",
    "    \n",
    "    def process_turn(self):\n",
    "        \n",
    "        self.n_turn += 1\n",
    "        \n",
    "        random.shuffle(self.battle_units)\n",
    "        self.battle_units = sorted(self.battle_units, key=lambda t: (t.speed), reverse=True)\n",
    "        #print(self.battle_units)\n",
    "        \n",
    "        for unit in self.battle_units:\n",
    "            print(unit.name + '  HP :' + str(round(unit.health)))\n",
    "        \n",
    "        for self.active_unit in self.battle_units:\n",
    "            \n",
    "            \n",
    "            used_skill = None\n",
    "            targets = None\n",
    "            if self.active_unit.isPlayer:\n",
    "                index_skill, targets = self.algorithm(self.battle_info(self))\n",
    "            else:\n",
    "                index_skill, targets = self.active_unit.algorithm(self.battle_info(self))\n",
    "\n",
    "            used_skill = self.active_unit.skills[index_skill]\n",
    "            print(self.active_unit.name + 'の' + used_skill.name)\n",
    "    \n",
    "            # Process for skills\n",
    "            if used_skill.name == '攻撃':\n",
    "                if len(targets) != 1:\n",
    "                    print('ターゲット指定が誤っています.')\n",
    "                    targets = []\n",
    "                for target in targets:\n",
    "                    damage = self.active_unit.attack * used_skill.value * 0.01 - self.battle_units[target].defence\n",
    "                    damage = np.maximum(np.random.randint(0,2), damage)             \n",
    "                    self.battle_units[target].health -= damage\n",
    "                    print(self.battle_units[target].name+'に'+str(round(damage))+'のダメージ')\n",
    "                    self.active_unit.attack *= 1.2\n",
    "                    print(self.active_unit.name + 'の攻撃力があがった')\n",
    "            \n",
    "            elif used_skill.name == '回復':\n",
    "                if len(targets) != 1:\n",
    "                    print('ターゲット指定が誤っています.') \n",
    "                    targets = []\n",
    "                for target in targets:\n",
    "                    value = used_skill.value \n",
    "                    value = np.maximum(np.random.randint(0,2), value)             \n",
    "                    self.battle_units[target].health += value\n",
    "                    print(self.battle_units[target].name+'は'+str(round(value))+'回復した')\n",
    "                    self.active_unit.attack *= 0.7\n",
    "                    print(self.active_unit.name + 'の攻撃力が下がった')\n",
    "            \n",
    "            elif used_skill.name == '強攻撃':\n",
    "                if len(targets) != 1:\n",
    "                    print('ターゲット指定が誤っています.')    \n",
    "                    targets = []\n",
    "                for target in targets:\n",
    "                    damage = self.active_unit.attack * used_skill.value * 0.01 - self.battle_units[target].defence\n",
    "                    damage = np.maximum(np.random.randint(0,2), damage)             \n",
    "                    self.battle_units[target].health -= damage\n",
    "                    print(self.battle_units[target].name+'に'+str(round(damage))+'のダメージ')\n",
    "                    self.active_unit.speed *= 0.7\n",
    "                    print(self.active_unit.name + 'のすばやさが下がった')\n",
    "            \n",
    "            elif used_skill.name == '回転攻撃':\n",
    "  \n",
    "                for target in targets:\n",
    "                    damage = self.active_unit.attack * used_skill.value * 0.01 - self.battle_units[target].defence\n",
    "                    damage = np.maximum(np.random.randint(0,2), damage)             \n",
    "                    self.battle_units[target].health -= damage\n",
    "                    print(self.battle_units[target].name+'に'+str(round(damage))+'のダメージ')\n",
    "\n",
    "            else:\n",
    "                pass\n",
    "            \n",
    "            for i in reversed(range(len(self.battle_units))):\n",
    "                if self.battle_units[i].health <= 0:\n",
    "                    print(self.battle_units[i].name + 'は死んだ')\n",
    "                    del self.battle_units[i]\n",
    "            \n",
    "            alives = [unit.isPlayer for unit in self.battle_units]\n",
    "            n_players = np.count_nonzero(alives)\n",
    "            n_enemies = len(alives) - n_players\n",
    "            \n",
    "            if n_players == 0:\n",
    "                print('Game Over')\n",
    "                self.finished = True\n",
    "                break\n",
    "            if n_enemies == 0:\n",
    "                print('Player Win!')\n",
    "                self.finished = True\n",
    "                self.player_win = True\n",
    "                break\n",
    "                \n",
    "                \n",
    "    def process(self):\n",
    "        \n",
    "        i_turn = 1\n",
    "        while not self.finished:\n",
    "            print( 'ターン' + str(i_turn))\n",
    "            self.process_turn()\n",
    "            i_turn += 1\n",
    "            if i_turn > 50:\n",
    "                break"
   ]
  },
  {
   "cell_type": "markdown",
   "metadata": {},
   "source": [
    "## ユーザーが工夫して書くアルゴリズム\n",
    "\n",
    " - current_battle_info を受け取って, 自分の使いたいSkillのindexを返す\n",
    " - 現状はcurrent_battle_infoはすべての情報を持っているが, これはBattleクラス内で情報を欠落させて渡す"
   ]
  },
  {
   "cell_type": "code",
   "execution_count": 407,
   "metadata": {},
   "outputs": [],
   "source": [
    "# User should write this function, then apply battle class\n",
    "\n",
    "def my_algorithm(battle_info):\n",
    "    # Basic Information\n",
    "    n_turn = battle_info.n_turn\n",
    "    units = battle_info.battle_units\n",
    "    my_index = battle_info.my_index\n",
    "    my_skill_list = [skill.name for skill in units[my_index].skills]    \n",
    "    enemies = [unit for unit in units if not unit.isPlayer]\n",
    "    \n",
    "    # Random choice\n",
    "    target_enemy_index = np.random.randint(len(enemies))\n",
    "    target_index = units.index(enemies[target_enemy_index])\n",
    "    skill_index = np.random.randint(len(my_skill_list))\n",
    "    \n",
    "    return skill_index, [target_index] "
   ]
  },
  {
   "cell_type": "code",
   "execution_count": null,
   "metadata": {},
   "outputs": [],
   "source": []
  },
  {
   "cell_type": "code",
   "execution_count": 408,
   "metadata": {},
   "outputs": [],
   "source": [
    "# 1戦闘のスタート\n",
    "\n",
    "player = Player(level=10)\n",
    "enemy1 = Enemy(level=10)\n",
    "enemy2 = DangerousEnemy(level=10)\n",
    "\n",
    "\n",
    "b = Battle()\n",
    "b.apply_unit(player)\n",
    "b.apply_unit(enemy1)\n",
    "b.apply_unit(enemy2)"
   ]
  },
  {
   "cell_type": "code",
   "execution_count": 409,
   "metadata": {},
   "outputs": [],
   "source": [
    "b.apply_algorithm(my_algorithm)"
   ]
  },
  {
   "cell_type": "code",
   "execution_count": 410,
   "metadata": {},
   "outputs": [
    {
     "name": "stdout",
     "output_type": "stream",
     "text": [
      "ターン1\n",
      "危ない敵 lv.10  HP :11\n",
      "オレサマ  HP :20\n",
      "敵 lv.10  HP :20\n",
      "危ない敵 lv.10の攻撃\n",
      "オレサマに1.0のダメージ\n",
      "危ない敵 lv.10の攻撃力があがった\n",
      "オレサマの回転攻撃\n",
      "危ない敵 lv.10に1.0のダメージ\n",
      "敵 lv.10の攻撃\n",
      "オレサマに0.0のダメージ\n",
      "敵 lv.10の攻撃力があがった\n",
      "ターン2\n",
      "危ない敵 lv.10  HP :10.0\n",
      "オレサマ  HP :19.0\n",
      "敵 lv.10  HP :20\n",
      "危ない敵 lv.10の攻撃\n",
      "オレサマに3.0のダメージ\n",
      "危ない敵 lv.10の攻撃力があがった\n",
      "オレサマの回復\n",
      "敵 lv.10は20回復した\n",
      "オレサマの攻撃力が下がった\n",
      "敵 lv.10の攻撃\n",
      "オレサマに0.0のダメージ\n",
      "敵 lv.10の攻撃力があがった\n",
      "ターン3\n",
      "危ない敵 lv.10  HP :10.0\n",
      "オレサマ  HP :16.0\n",
      "敵 lv.10  HP :40\n",
      "危ない敵 lv.10の攻撃\n",
      "オレサマに6.0のダメージ\n",
      "危ない敵 lv.10の攻撃力があがった\n",
      "オレサマの攻撃\n",
      "危ない敵 lv.10に0.0のダメージ\n",
      "オレサマの攻撃力があがった\n",
      "敵 lv.10の攻撃\n",
      "オレサマに0.0のダメージ\n",
      "敵 lv.10の攻撃力があがった\n",
      "ターン4\n",
      "危ない敵 lv.10  HP :10.0\n",
      "オレサマ  HP :9.0\n",
      "敵 lv.10  HP :40\n",
      "危ない敵 lv.10の攻撃\n",
      "オレサマに10.0のダメージ\n",
      "危ない敵 lv.10の攻撃力があがった\n",
      "オレサマは死んだ\n",
      "Game Over\n"
     ]
    }
   ],
   "source": [
    "b.process()"
   ]
  },
  {
   "cell_type": "markdown",
   "metadata": {},
   "source": [
    "## あそびかた\n",
    " - まずはInteractiveにコードを書いてみる"
   ]
  },
  {
   "cell_type": "code",
   "execution_count": 411,
   "metadata": {},
   "outputs": [],
   "source": [
    "# 1戦闘のスタート (コピペ)\n",
    "\n",
    "player = Player()\n",
    "enemy1 = Enemy(level=10)\n",
    "enemy2 = DangerousEnemy(level=10)\n",
    "\n",
    "b = Battle()\n",
    "b.apply_unit(player)\n",
    "b.apply_unit(enemy1)\n",
    "b.apply_unit(enemy2)"
   ]
  },
  {
   "cell_type": "code",
   "execution_count": 412,
   "metadata": {},
   "outputs": [],
   "source": [
    "info = b.get_battle_info() # 敵味方の情報が返ってくる"
   ]
  },
  {
   "cell_type": "code",
   "execution_count": 413,
   "metadata": {},
   "outputs": [
    {
     "data": {
      "text/plain": [
       "0"
      ]
     },
     "execution_count": 413,
     "metadata": {},
     "output_type": "execute_result"
    }
   ],
   "source": [
    "info.n_turn"
   ]
  },
  {
   "cell_type": "code",
   "execution_count": 414,
   "metadata": {},
   "outputs": [
    {
     "data": {
      "text/plain": [
       "[<__main__.Player at 0x7ff648a43d68>,\n",
       " <__main__.Enemy at 0x7ff648a43fd0>,\n",
       " <__main__.DangerousEnemy at 0x7ff648a43780>]"
      ]
     },
     "execution_count": 414,
     "metadata": {},
     "output_type": "execute_result"
    }
   ],
   "source": [
    "info.battle_units"
   ]
  },
  {
   "cell_type": "code",
   "execution_count": 415,
   "metadata": {},
   "outputs": [
    {
     "data": {
      "text/plain": [
       "18"
      ]
     },
     "execution_count": 415,
     "metadata": {},
     "output_type": "execute_result"
    }
   ],
   "source": [
    "info.battle_units[0].attack"
   ]
  },
  {
   "cell_type": "code",
   "execution_count": 416,
   "metadata": {},
   "outputs": [
    {
     "data": {
      "text/plain": [
       "[<__main__.NormalAttack at 0x7ff648a43c88>,\n",
       " <__main__.StrongAttack at 0x7ff648a436d8>,\n",
       " <__main__.Heal at 0x7ff648a43cc0>,\n",
       " <__main__.RollingAttack at 0x7ff648a43da0>]"
      ]
     },
     "execution_count": 416,
     "metadata": {},
     "output_type": "execute_result"
    }
   ],
   "source": [
    "info.battle_units[0].skills"
   ]
  },
  {
   "cell_type": "code",
   "execution_count": 417,
   "metadata": {},
   "outputs": [],
   "source": [
    "#さっき敗北したアルゴリズムを再度Apply\n",
    "# User should write this function, then apply battle class\n",
    "\n",
    "def my_algorithm(battle_info):\n",
    "    # Basic Information\n",
    "    n_turn = battle_info.n_turn\n",
    "    units = battle_info.battle_units\n",
    "    my_index = battle_info.my_index\n",
    "    my_skill_list = [skill.name for skill in units[my_index].skills]    \n",
    "    enemies = [unit for unit in units if not unit.isPlayer]\n",
    "    \n",
    "    # Random choice\n",
    "    target_enemy_index = np.random.randint(len(enemies))\n",
    "    target_index = units.index(enemies[target_enemy_index])\n",
    "    skill_index = np.random.randint(len(my_skill_list))\n",
    "    \n",
    "    return skill_index, [target_index]\n",
    "\n",
    "b.apply_algorithm(my_algorithm)"
   ]
  },
  {
   "cell_type": "code",
   "execution_count": 371,
   "metadata": {},
   "outputs": [
    {
     "name": "stdout",
     "output_type": "stream",
     "text": [
      "危ない敵 lv.10  HP :11\n",
      "オレサマ  HP :20\n",
      "敵 lv.10  HP :20\n",
      "危ない敵 lv.10の攻撃\n",
      "オレサマに1.0のダメージ\n",
      "危ない敵 lv.10の攻撃力があがった\n",
      "オレサマの回復\n",
      "危ない敵 lv.10は20回復した\n",
      "オレサマの攻撃力が下がった\n",
      "敵 lv.10の攻撃\n",
      "オレサマに0.0のダメージ\n",
      "敵 lv.10の攻撃力があがった\n"
     ]
    }
   ],
   "source": [
    "# 1ターンずつ動かす.\n",
    "b.process_turn()"
   ]
  },
  {
   "cell_type": "code",
   "execution_count": 372,
   "metadata": {},
   "outputs": [
    {
     "name": "stdout",
     "output_type": "stream",
     "text": [
      "危ない敵 lv.10  HP :31\n",
      "オレサマ  HP :19.0\n",
      "敵 lv.10  HP :20\n",
      "危ない敵 lv.10の攻撃\n",
      "オレサマに3.0のダメージ\n",
      "危ない敵 lv.10の攻撃力があがった\n",
      "オレサマの攻撃\n",
      "敵 lv.10に1.0のダメージ\n",
      "オレサマの攻撃力があがった\n",
      "敵 lv.10の攻撃\n",
      "オレサマに0.0のダメージ\n",
      "敵 lv.10の攻撃力があがった\n"
     ]
    }
   ],
   "source": [
    "b.process_turn()"
   ]
  },
  {
   "cell_type": "code",
   "execution_count": 373,
   "metadata": {},
   "outputs": [],
   "source": [
    "info = b.get_battle_info()"
   ]
  },
  {
   "cell_type": "code",
   "execution_count": 374,
   "metadata": {},
   "outputs": [
    {
     "data": {
      "text/plain": [
       "['危ない敵 lv.10', 'オレサマ', '敵 lv.10']"
      ]
     },
     "execution_count": 374,
     "metadata": {},
     "output_type": "execute_result"
    }
   ],
   "source": [
    "[unit.name for unit in info.battle_units]"
   ]
  },
  {
   "cell_type": "code",
   "execution_count": 375,
   "metadata": {},
   "outputs": [
    {
     "name": "stdout",
     "output_type": "stream",
     "text": [
      "敵 lv.10\n",
      "21.599999999999998\n",
      "19.0\n"
     ]
    }
   ],
   "source": [
    "print(info.battle_units[2].name)\n",
    "print(info.battle_units[2].attack)\n",
    "print(info.battle_units[2].health)"
   ]
  },
  {
   "cell_type": "code",
   "execution_count": 376,
   "metadata": {},
   "outputs": [
    {
     "name": "stdout",
     "output_type": "stream",
     "text": [
      "危ない敵 lv.10\n",
      "57.599999999999994\n",
      "31\n"
     ]
    }
   ],
   "source": [
    "print(info.battle_units[0].name)\n",
    "print(info.battle_units[0].attack)\n",
    "print(info.battle_units[0].health)"
   ]
  },
  {
   "cell_type": "markdown",
   "metadata": {},
   "source": [
    "めっちゃたかい攻撃力しているので, こいつから殺そうという発想になる"
   ]
  },
  {
   "cell_type": "code",
   "execution_count": 377,
   "metadata": {},
   "outputs": [],
   "source": [
    "# 1戦闘のスタート\n",
    "\n",
    "player = Player()\n",
    "enemy1 = Enemy(level=10)\n",
    "enemy2 = DangerousEnemy(level=10)\n",
    "\n",
    "b = Battle()\n",
    "b.apply_unit(player)\n",
    "b.apply_unit(enemy1)\n",
    "b.apply_unit(enemy2)"
   ]
  },
  {
   "cell_type": "code",
   "execution_count": 378,
   "metadata": {},
   "outputs": [],
   "source": [
    "# User should write this function, then apply battle class\n",
    "\n",
    "def my_algorithm(battle_info):\n",
    "    units = battle_info.battle_units\n",
    "    my_index = battle_info.my_index\n",
    "    skill_list = [skill.name for skill in units[my_index].skills]\n",
    "    \n",
    "    enemies = [unit for unit in battle_info.battle_units if not unit.isPlayer]\n",
    "    enemy_index = np.argmax([enemy.attack for enemy in enemies])  #敵で攻撃力が高いやつを対象にする\n",
    "    target_index = battle_info.battle_units.index(enemies[enemy_index])\n",
    "    \n",
    "    return 1, [target_index]"
   ]
  },
  {
   "cell_type": "code",
   "execution_count": 379,
   "metadata": {},
   "outputs": [],
   "source": [
    "b.apply_algorithm(my_algorithm)"
   ]
  },
  {
   "cell_type": "code",
   "execution_count": 380,
   "metadata": {},
   "outputs": [
    {
     "name": "stdout",
     "output_type": "stream",
     "text": [
      "ターン1\n",
      "危ない敵 lv.10  HP :11\n",
      "オレサマ  HP :20\n",
      "敵 lv.10  HP :20\n",
      "危ない敵 lv.10の攻撃\n",
      "オレサマに1.0のダメージ\n",
      "危ない敵 lv.10の攻撃力があがった\n",
      "オレサマの強攻撃\n",
      "危ない敵 lv.10に7.0のダメージ\n",
      "オレサマのすばやさが下がった\n",
      "敵 lv.10の攻撃\n",
      "オレサマに0.0のダメージ\n",
      "敵 lv.10の攻撃力があがった\n",
      "ターン2\n",
      "危ない敵 lv.10  HP :4.0\n",
      "敵 lv.10  HP :20\n",
      "オレサマ  HP :19.0\n",
      "危ない敵 lv.10の攻撃\n",
      "オレサマに3.0のダメージ\n",
      "危ない敵 lv.10の攻撃力があがった\n",
      "敵 lv.10の攻撃\n",
      "オレサマに0.0のダメージ\n",
      "敵 lv.10の攻撃力があがった\n",
      "オレサマの強攻撃\n",
      "危ない敵 lv.10に7.0のダメージ\n",
      "オレサマのすばやさが下がった\n",
      "危ない敵 lv.10は死んだ\n",
      "ターン3\n",
      "敵 lv.10  HP :20\n",
      "オレサマ  HP :16.0\n",
      "敵 lv.10の攻撃\n",
      "オレサマに0.0のダメージ\n",
      "敵 lv.10の攻撃力があがった\n",
      "オレサマの強攻撃\n",
      "敵 lv.10に15.0のダメージ\n",
      "オレサマのすばやさが下がった\n",
      "ターン4\n",
      "敵 lv.10  HP :5.0\n",
      "オレサマ  HP :16.0\n",
      "敵 lv.10の攻撃\n",
      "オレサマに0.0のダメージ\n",
      "敵 lv.10の攻撃力があがった\n",
      "オレサマの強攻撃\n",
      "敵 lv.10に15.0のダメージ\n",
      "オレサマのすばやさが下がった\n",
      "敵 lv.10は死んだ\n",
      "Player Win!\n"
     ]
    }
   ],
   "source": [
    "b.process()"
   ]
  },
  {
   "cell_type": "markdown",
   "metadata": {},
   "source": [
    "## 勝てた."
   ]
  },
  {
   "cell_type": "code",
   "execution_count": null,
   "metadata": {},
   "outputs": [],
   "source": []
  },
  {
   "cell_type": "code",
   "execution_count": 381,
   "metadata": {},
   "outputs": [],
   "source": [
    "#目標\n",
    "\n",
    "player = Player()\n",
    "enemy1 = Enemy(level=10)\n",
    "enemy2 = DangerousEnemy(level=10)\n",
    "enemy3 = DangerousEnemy(level=10)\n",
    "\n",
    "b = Battle()\n",
    "b.apply_unit(player)\n",
    "b.apply_unit(enemy1)\n",
    "b.apply_unit(enemy2)\n",
    "b.apply_unit(enemy3)"
   ]
  },
  {
   "cell_type": "code",
   "execution_count": 382,
   "metadata": {},
   "outputs": [],
   "source": [
    "# User should write this function, then apply battle class\n",
    "\n",
    "def my_algorithm(battle_info):\n",
    "    units = battle_info.battle_units\n",
    "    my_index = battle_info.my_index\n",
    "    skill_list = [skill.name for skill in units[my_index].skills]\n",
    "    \n",
    "    enemies = [unit for unit in battle_info.battle_units if not unit.isPlayer]\n",
    "    enemy_index = np.argmax([enemy.attack for enemy in enemies])  #敵で攻撃力が高いやつを対象にする\n",
    "    target_index = battle_info.battle_units.index(enemies[enemy_index])\n",
    "    \n",
    "    return 1, [target_index]\n",
    "\n",
    "b.apply_algorithm(my_algorithm)"
   ]
  },
  {
   "cell_type": "code",
   "execution_count": 383,
   "metadata": {},
   "outputs": [
    {
     "name": "stdout",
     "output_type": "stream",
     "text": [
      "ターン1\n",
      "危ない敵 lv.10  HP :11\n",
      "危ない敵 lv.10  HP :11\n",
      "オレサマ  HP :20\n",
      "敵 lv.10  HP :20\n",
      "危ない敵 lv.10の攻撃\n",
      "オレサマに1.0のダメージ\n",
      "危ない敵 lv.10の攻撃力があがった\n",
      "危ない敵 lv.10の攻撃\n",
      "オレサマに1.0のダメージ\n",
      "危ない敵 lv.10の攻撃力があがった\n",
      "オレサマの強攻撃\n",
      "危ない敵 lv.10に7.0のダメージ\n",
      "オレサマのすばやさが下がった\n",
      "敵 lv.10の攻撃\n",
      "オレサマに0.0のダメージ\n",
      "敵 lv.10の攻撃力があがった\n",
      "ターン2\n",
      "危ない敵 lv.10  HP :11\n",
      "危ない敵 lv.10  HP :4.0\n",
      "敵 lv.10  HP :20\n",
      "オレサマ  HP :18.0\n",
      "危ない敵 lv.10の攻撃\n",
      "オレサマに3.0のダメージ\n",
      "危ない敵 lv.10の攻撃力があがった\n",
      "危ない敵 lv.10の攻撃\n",
      "オレサマに3.0のダメージ\n",
      "危ない敵 lv.10の攻撃力があがった\n",
      "敵 lv.10の攻撃\n",
      "オレサマに1.0のダメージ\n",
      "敵 lv.10の攻撃力があがった\n",
      "オレサマの強攻撃\n",
      "危ない敵 lv.10に7.0のダメージ\n",
      "オレサマのすばやさが下がった\n",
      "ターン3\n",
      "危ない敵 lv.10  HP :4.0\n",
      "危ない敵 lv.10  HP :4.0\n",
      "敵 lv.10  HP :20\n",
      "オレサマ  HP :10.0\n",
      "危ない敵 lv.10の攻撃\n",
      "オレサマに6.0のダメージ\n",
      "危ない敵 lv.10の攻撃力があがった\n",
      "危ない敵 lv.10の攻撃\n",
      "オレサマに6.0のダメージ\n",
      "危ない敵 lv.10の攻撃力があがった\n",
      "オレサマは死んだ\n",
      "Game Over\n"
     ]
    }
   ],
   "source": [
    "b.process()"
   ]
  },
  {
   "cell_type": "code",
   "execution_count": null,
   "metadata": {},
   "outputs": [],
   "source": []
  },
  {
   "cell_type": "code",
   "execution_count": null,
   "metadata": {},
   "outputs": [],
   "source": []
  },
  {
   "cell_type": "code",
   "execution_count": null,
   "metadata": {},
   "outputs": [],
   "source": []
  },
  {
   "cell_type": "code",
   "execution_count": null,
   "metadata": {},
   "outputs": [],
   "source": []
  },
  {
   "cell_type": "code",
   "execution_count": null,
   "metadata": {},
   "outputs": [],
   "source": []
  },
  {
   "cell_type": "code",
   "execution_count": null,
   "metadata": {},
   "outputs": [],
   "source": []
  },
  {
   "cell_type": "code",
   "execution_count": null,
   "metadata": {},
   "outputs": [],
   "source": []
  },
  {
   "cell_type": "code",
   "execution_count": null,
   "metadata": {},
   "outputs": [],
   "source": []
  },
  {
   "cell_type": "code",
   "execution_count": null,
   "metadata": {},
   "outputs": [],
   "source": []
  },
  {
   "cell_type": "code",
   "execution_count": null,
   "metadata": {},
   "outputs": [],
   "source": []
  },
  {
   "cell_type": "code",
   "execution_count": null,
   "metadata": {},
   "outputs": [],
   "source": []
  },
  {
   "cell_type": "code",
   "execution_count": null,
   "metadata": {},
   "outputs": [],
   "source": []
  },
  {
   "cell_type": "code",
   "execution_count": null,
   "metadata": {},
   "outputs": [],
   "source": []
  },
  {
   "cell_type": "code",
   "execution_count": null,
   "metadata": {},
   "outputs": [],
   "source": []
  },
  {
   "cell_type": "code",
   "execution_count": null,
   "metadata": {},
   "outputs": [],
   "source": []
  }
 ],
 "metadata": {
  "kernelspec": {
   "display_name": "Python 3",
   "language": "python",
   "name": "python3"
  },
  "language_info": {
   "codemirror_mode": {
    "name": "ipython",
    "version": 3
   },
   "file_extension": ".py",
   "mimetype": "text/x-python",
   "name": "python",
   "nbconvert_exporter": "python",
   "pygments_lexer": "ipython3",
   "version": "3.6.8"
  }
 },
 "nbformat": 4,
 "nbformat_minor": 4
}
