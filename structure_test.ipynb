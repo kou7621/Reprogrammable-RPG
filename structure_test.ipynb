{
 "cells": [
  {
   "cell_type": "markdown",
   "metadata": {},
   "source": [
    "# repro-rpg のデザイン案 ver. 0.2\n",
    "以下Battle Classに隠蔽されているコード\n",
    "遊ぶときは\n",
    "```\n",
    "imoprt repro-rpg\n",
    "```\n",
    "とかになる\n"
   ]
  },
  {
   "cell_type": "code",
   "execution_count": 1,
   "metadata": {},
   "outputs": [],
   "source": [
    "import numpy as np\n",
    "import pandas as pd\n",
    "import matplotlib.pyplot as plt\n",
    "import scipy\n",
    "import random\n",
    "from abc import ABCMeta, abstractmethod"
   ]
  },
  {
   "cell_type": "code",
   "execution_count": 2,
   "metadata": {},
   "outputs": [],
   "source": [
    "class Skill():\n",
    "    \n",
    "    @abstractmethod\n",
    "    def __init__(self):\n",
    "        self.name = ''\n",
    "        self.type = 'normal'\n",
    "        self.value = 1\n",
    "    \n",
    "    def __process__(self):\n",
    "        pass"
   ]
  },
  {
   "cell_type": "code",
   "execution_count": 3,
   "metadata": {},
   "outputs": [],
   "source": [
    "class NormalAttack(Skill):\n",
    "    def __init__(self):\n",
    "        self.name = '攻撃'\n",
    "        self.type = 'normal'\n",
    "        self.value = 30\n",
    "        \n",
    "    def description(self):\n",
    "        print('攻撃')\n",
    "        print('MP 消費なし')\n",
    "        print('1体に攻撃する')\n",
    "        print('攻撃力が上がる')\n",
    "\n",
    "    def process(self):\n",
    "        pass"
   ]
  },
  {
   "cell_type": "code",
   "execution_count": 4,
   "metadata": {},
   "outputs": [],
   "source": [
    "class StrongAttack(Skill):\n",
    "    def __init__(self):\n",
    "        self.name = '強攻撃'\n",
    "        self.type = 'normal'\n",
    "        self.value = 100\n",
    "        \n",
    "    def description(self):\n",
    "        print('強攻撃')\n",
    "        print('MP 消費なし')\n",
    "        print('1体に攻撃する')\n",
    "        print('すばやさがさがる')\n",
    "        \n",
    "        \n",
    "    def process(self):\n",
    "        pass"
   ]
  },
  {
   "cell_type": "code",
   "execution_count": 5,
   "metadata": {},
   "outputs": [],
   "source": [
    "class Heal(Skill):\n",
    "    def __init__(self):\n",
    "        self.name = '回復'\n",
    "        self.type = 'recover'\n",
    "        self.value = 20\n",
    "        \n",
    "    def description(self):\n",
    "        print('回復')\n",
    "        print('MP 消費なし')\n",
    "        print('1体を回復する')\n",
    "        print('攻撃力がさがる')\n",
    "        \n",
    "        \n",
    "    def process(self):\n",
    "        pass"
   ]
  },
  {
   "cell_type": "code",
   "execution_count": null,
   "metadata": {},
   "outputs": [],
   "source": []
  },
  {
   "cell_type": "code",
   "execution_count": 6,
   "metadata": {},
   "outputs": [],
   "source": [
    "class BattleUnit():\n",
    "    def __init__(self):\n",
    "        self.health = 10\n",
    "        self.attack = 10\n",
    "        self.defence = 2\n",
    "        self.speed = 5\n",
    "        self.isPlayer = True\n",
    "        self.skills = None"
   ]
  },
  {
   "cell_type": "code",
   "execution_count": 7,
   "metadata": {},
   "outputs": [],
   "source": [
    "class Player(BattleUnit):\n",
    "    \n",
    "    def __init__(self, level=10):\n",
    "        self.name = 'オレサマ'\n",
    "        self.health = 10 + level * 0.1\n",
    "        self.attack = 8 + level * 0.1\n",
    "        self.defence = 1 + level * 0.1\n",
    "        self.speed = 5 + level * 0.1\n",
    "        self.isPlayer = True\n",
    "        self.skills =[NormalAttack(), StrongAttack(), Heal()]\n",
    "        "
   ]
  },
  {
   "cell_type": "code",
   "execution_count": 8,
   "metadata": {},
   "outputs": [],
   "source": [
    "class Enemy(BattleUnit):\n",
    "    \n",
    "    def __init__(self, level=1):\n",
    "        self.name = '敵 lv.' + str(level)\n",
    "        self.health = 10 + level * 0.2\n",
    "        self.attack = 5 + level * 0.2\n",
    "        self.defence = 1 + level * 0.2\n",
    "        self.speed = 2 + level * 0.2\n",
    "        self.isPlayer = False\n",
    "        self.skills =[NormalAttack()]\n",
    "    \n",
    "    def algorithm(self, current_battle_info):\n",
    "        skill_list = [skill.name for skill in current_battle_info[0].skills]\n",
    "    \n",
    "        enemies = [unit for unit in current_battle_info if  unit.isPlayer]\n",
    "        enemy_index = np.argmin([enemy.health for enemy in enemies])\n",
    "        target_index = current_battle_info.index(enemies[enemy_index])\n",
    "    \n",
    "        return 0, [target_index]\n"
   ]
  },
  {
   "cell_type": "code",
   "execution_count": 9,
   "metadata": {},
   "outputs": [],
   "source": [
    "class DangerousEnemy(BattleUnit):\n",
    "    \n",
    "    def __init__(self, level=1):\n",
    "        self.name = '危ない敵 lv.' + str(level)\n",
    "        self.health = 1 + level * 0.02\n",
    "        self.attack = 10 + level * 0.2\n",
    "        self.defence = 1 + level * 0.2\n",
    "        self.speed = 1 + level * 0.02\n",
    "        self.isPlayer = False\n",
    "        self.skills =[NormalAttack()]\n",
    "    \n",
    "    def algorithm(self, current_battle_info):\n",
    "            \n",
    "        skill_list = [skill.name for skill in current_battle_info[0].skills]\n",
    "    \n",
    "        enemies = [unit for unit in current_battle_info if unit.isPlayer]\n",
    "        enemy_index = np.argmin([enemy.health for enemy in enemies])\n",
    "        target_index = current_battle_info.index(enemies[enemy_index])\n",
    "    \n",
    "        return 0, [target_index]\n"
   ]
  },
  {
   "cell_type": "code",
   "execution_count": null,
   "metadata": {},
   "outputs": [],
   "source": []
  },
  {
   "cell_type": "code",
   "execution_count": 10,
   "metadata": {},
   "outputs": [],
   "source": [
    "class Battle():\n",
    "    def __init__(self):\n",
    "        self.battle_units = []\n",
    "        self.finished = False\n",
    "        self.player_win = False\n",
    "        \n",
    "    def basic_algorithm(self):\n",
    "        skill = NormalAttack()\n",
    "        return skill\n",
    "        \n",
    "    def appry_unit(self, unit):\n",
    "        self.battle_units.append(unit)\n",
    "    \n",
    "    def current_battle_info(self):\n",
    "        return self.battle_units # tentative\n",
    "    \n",
    "    def skill_list(self):\n",
    "        return [skill.name for skill in self.battle_units[0].skills]\n",
    "\n",
    "    def apply_algorithm(self, func):\n",
    "        self.algorithm = func\n",
    "    \n",
    "    \n",
    "    def process_turn(self):\n",
    "        \n",
    "        random.shuffle(self.battle_units)\n",
    "        self.battle_units = sorted(self.battle_units, key=lambda t: (t.speed), reverse=True)\n",
    "        #print(self.battle_units)\n",
    "        \n",
    "        for unit in self.battle_units:\n",
    "            print(unit.name + '  HP :' + str(round(unit.health)))\n",
    "        \n",
    "        for self.active_unit in self.battle_units:\n",
    "            \n",
    "            \n",
    "            used_skill = None\n",
    "            targets = None\n",
    "            if self.active_unit.isPlayer:\n",
    "                index_skill, targets = self.algorithm(self.current_battle_info())\n",
    "            else:\n",
    "                index_skill, targets = self.active_unit.algorithm(self.current_battle_info())\n",
    "\n",
    "            used_skill = self.active_unit.skills[index_skill]\n",
    "            print(self.active_unit.name + 'の' + used_skill.name)\n",
    "    \n",
    "            # Process for skills\n",
    "            if used_skill.name == '攻撃':\n",
    "                if len(targets) != 1:\n",
    "                    print('ターゲット指定が誤っています.')\n",
    "                    targets = []\n",
    "                for target in targets:\n",
    "                    damage = self.active_unit.attack * used_skill.value * 0.01 - self.battle_units[target].defence\n",
    "                    damage = np.maximum(np.random.randint(0,2), damage)             \n",
    "                    self.battle_units[target].health -= damage\n",
    "                    print(self.battle_units[target].name+'に'+str(round(damage))+'のダメージ')\n",
    "                    self.active_unit.attack *= 1.2\n",
    "                    print(self.active_unit.name + 'の攻撃力があがった')\n",
    "            \n",
    "            elif used_skill.name == '回復':\n",
    "                if len(targets) != 1:\n",
    "                    print('ターゲット指定が誤っています.') \n",
    "                    targets = []\n",
    "                for target in targets:\n",
    "                    print('aa' + used_skill.name)\n",
    "                    value = used_skill.value \n",
    "                    value = np.maximum(np.random.randint(0,2), value)             \n",
    "                    self.battle_units[target].health += value\n",
    "                    print(self.battle_units[target].name+'は'+str(round(value))+'回復した')\n",
    "                    self.active_unit.attack *= 0.7\n",
    "                    print(self.active_unit.name + 'の攻撃力が下がった')\n",
    "            \n",
    "            elif used_skill.name == '強攻撃':\n",
    "                if len(targets) != 1:\n",
    "                    print('ターゲット指定が誤っています.')    \n",
    "                    targets = []\n",
    "                for target in targets:\n",
    "                    damage = self.active_unit.attack * used_skill.value * 0.01 - self.battle_units[target].defence\n",
    "                    damage = np.maximum(np.random.randint(0,2), damage)             \n",
    "                    self.battle_units[target].health -= damage\n",
    "                    print(self.battle_units[target].name+'に'+str(round(damage))+'のダメージ')\n",
    "                    self.active_unit.speed *= 0.7\n",
    "                    print(self.active_unit.name + 'のすばやさが下がった')\n",
    "      \n",
    "            else:\n",
    "                pass\n",
    "            \n",
    "            for i in reversed(range(len(self.battle_units))):\n",
    "                if self.battle_units[i].health <= 0:\n",
    "                    print(self.battle_units[i].name + 'は死んだ')\n",
    "                    del self.battle_units[i]\n",
    "            \n",
    "            alives = [unit.isPlayer for unit in self.battle_units]\n",
    "            n_players = np.count_nonzero(alives)\n",
    "            n_enemies = len(alives) - n_players\n",
    "            \n",
    "            if n_players == 0:\n",
    "                print('Game Over')\n",
    "                self.finished = True\n",
    "                break\n",
    "            if n_enemies == 0:\n",
    "                print('Player Win!')\n",
    "                self.finished = True\n",
    "                self.player_win = True\n",
    "                break\n",
    "                \n",
    "                \n",
    "    def process(self):\n",
    "        \n",
    "        i_turn = 1\n",
    "        while not self.finished:\n",
    "            print( 'ターン' + str(i_turn))\n",
    "            self.process_turn()\n",
    "            i_turn += 1\n",
    "            if i_turn > 50:\n",
    "                break"
   ]
  },
  {
   "cell_type": "markdown",
   "metadata": {},
   "source": [
    "## ユーザーが工夫して書くアルゴリズム\n",
    "\n",
    " - current_battle_info を受け取って, 自分の使いたいSkillのindexを返す\n",
    " - 現状はcurrent_battle_infoはすべての情報を持っているが, これはBattleクラス内で情報を欠落させて渡す"
   ]
  },
  {
   "cell_type": "code",
   "execution_count": 11,
   "metadata": {},
   "outputs": [],
   "source": [
    "# User should write this function, then apply battle class\n",
    "\n",
    "def my_algorithm(current_battle_info):\n",
    "    \n",
    "    skill_list = [skill.name for skill in current_battle_info[0].skills]\n",
    "    \n",
    "    enemies = [unit for unit in current_battle_info if not unit.isPlayer]\n",
    "    target_index = current_battle_info.index(enemies[0])\n",
    "    return 0, [target_index] "
   ]
  },
  {
   "cell_type": "code",
   "execution_count": null,
   "metadata": {},
   "outputs": [],
   "source": []
  },
  {
   "cell_type": "code",
   "execution_count": 12,
   "metadata": {},
   "outputs": [],
   "source": [
    "# 1戦闘のスタート\n",
    "\n",
    "player = Player(level=10)\n",
    "enemy1 = Enemy(level=10)\n",
    "enemy2 = DangerousEnemy(level=10)\n",
    "\n",
    "\n",
    "b = Battle()\n",
    "b.appry_unit(player)\n",
    "b.appry_unit(enemy1)\n",
    "b.appry_unit(enemy2)"
   ]
  },
  {
   "cell_type": "code",
   "execution_count": 13,
   "metadata": {},
   "outputs": [],
   "source": [
    "b.apply_algorithm(my_algorithm)"
   ]
  },
  {
   "cell_type": "code",
   "execution_count": 14,
   "metadata": {},
   "outputs": [
    {
     "name": "stdout",
     "output_type": "stream",
     "text": [
      "ターン1\n",
      "オレサマ  HP :11\n",
      "敵 lv.10  HP :12\n",
      "危ない敵 lv.10  HP :1\n",
      "オレサマの攻撃\n",
      "敵 lv.10に0.0のダメージ\n",
      "オレサマの攻撃力があがった\n",
      "敵 lv.10の攻撃\n",
      "オレサマに1.0のダメージ\n",
      "敵 lv.10の攻撃力があがった\n",
      "危ない敵 lv.10の攻撃\n",
      "オレサマに2.0のダメージ\n",
      "危ない敵 lv.10の攻撃力があがった\n",
      "ターン2\n",
      "オレサマ  HP :8.0\n",
      "敵 lv.10  HP :12.0\n",
      "危ない敵 lv.10  HP :1\n",
      "オレサマの攻撃\n",
      "敵 lv.10に0.0のダメージ\n",
      "オレサマの攻撃力があがった\n",
      "敵 lv.10の攻撃\n",
      "オレサマに1.0のダメージ\n",
      "敵 lv.10の攻撃力があがった\n",
      "危ない敵 lv.10の攻撃\n",
      "オレサマに2.0のダメージ\n",
      "危ない敵 lv.10の攻撃力があがった\n",
      "ターン3\n",
      "オレサマ  HP :5.0\n",
      "敵 lv.10  HP :12.0\n",
      "危ない敵 lv.10  HP :1\n",
      "オレサマの攻撃\n",
      "敵 lv.10に1.0のダメージ\n",
      "オレサマの攻撃力があがった\n",
      "敵 lv.10の攻撃\n",
      "オレサマに1.0のダメージ\n",
      "敵 lv.10の攻撃力があがった\n",
      "危ない敵 lv.10の攻撃\n",
      "オレサマに3.0のダメージ\n",
      "危ない敵 lv.10の攻撃力があがった\n",
      "ターン4\n",
      "オレサマ  HP :1.0\n",
      "敵 lv.10  HP :11.0\n",
      "危ない敵 lv.10  HP :1\n",
      "オレサマの攻撃\n",
      "敵 lv.10に2.0のダメージ\n",
      "オレサマの攻撃力があがった\n",
      "敵 lv.10の攻撃\n",
      "オレサマに2.0のダメージ\n",
      "敵 lv.10の攻撃力があがった\n",
      "オレサマは死んだ\n",
      "Game Over\n"
     ]
    }
   ],
   "source": [
    "b.process()"
   ]
  },
  {
   "cell_type": "markdown",
   "metadata": {},
   "source": [
    "## あそびかた\n",
    " - まずはInteractiveにコードを書いてみる"
   ]
  },
  {
   "cell_type": "code",
   "execution_count": 15,
   "metadata": {},
   "outputs": [],
   "source": [
    "# 1戦闘のスタート (コピペ)\n",
    "\n",
    "player = Player()\n",
    "enemy1 = Enemy(level=10)\n",
    "enemy2 = DangerousEnemy(level=10)\n",
    "\n",
    "b = Battle()\n",
    "b.appry_unit(player)\n",
    "b.appry_unit(enemy1)\n",
    "b.appry_unit(enemy2)"
   ]
  },
  {
   "cell_type": "code",
   "execution_count": 16,
   "metadata": {},
   "outputs": [
    {
     "data": {
      "text/plain": [
       "[<__main__.Player at 0x7f1ab6d7d9e8>,\n",
       " <__main__.Enemy at 0x7f1ab6842a90>,\n",
       " <__main__.DangerousEnemy at 0x7f1ab68429b0>]"
      ]
     },
     "execution_count": 16,
     "metadata": {},
     "output_type": "execute_result"
    }
   ],
   "source": [
    "b.current_battle_info() # 敵味方の情報が返ってくる"
   ]
  },
  {
   "cell_type": "code",
   "execution_count": 17,
   "metadata": {},
   "outputs": [],
   "source": [
    "#さっき敗北したアルゴリズムを再度Apply\n",
    "# User should write this function, then apply battle class\n",
    "\n",
    "def my_algorithm(current_battle_info):\n",
    "    \n",
    "    skill_list = [skill.name for skill in current_battle_info[0].skills]\n",
    "    \n",
    "    enemies = [unit for unit in current_battle_info if not unit.isPlayer]\n",
    "    target_index = current_battle_info.index(enemies[0])\n",
    "    return 0, [target_index] \n",
    "\n",
    "b.apply_algorithm(my_algorithm)"
   ]
  },
  {
   "cell_type": "code",
   "execution_count": 18,
   "metadata": {},
   "outputs": [
    {
     "name": "stdout",
     "output_type": "stream",
     "text": [
      "オレサマ  HP :11\n",
      "敵 lv.10  HP :12\n",
      "危ない敵 lv.10  HP :1\n",
      "オレサマの攻撃\n",
      "敵 lv.10に1.0のダメージ\n",
      "オレサマの攻撃力があがった\n",
      "敵 lv.10の攻撃\n",
      "オレサマに0.0のダメージ\n",
      "敵 lv.10の攻撃力があがった\n",
      "危ない敵 lv.10の攻撃\n",
      "オレサマに2.0のダメージ\n",
      "危ない敵 lv.10の攻撃力があがった\n"
     ]
    }
   ],
   "source": [
    "# 1ターンずつ動かす.\n",
    "b.process_turn()"
   ]
  },
  {
   "cell_type": "code",
   "execution_count": 19,
   "metadata": {},
   "outputs": [
    {
     "data": {
      "text/plain": [
       "[<__main__.Player at 0x7f1ab6d7d9e8>,\n",
       " <__main__.Enemy at 0x7f1ab6842a90>,\n",
       " <__main__.DangerousEnemy at 0x7f1ab68429b0>]"
      ]
     },
     "execution_count": 19,
     "metadata": {},
     "output_type": "execute_result"
    }
   ],
   "source": [
    "b.current_battle_info()"
   ]
  },
  {
   "cell_type": "code",
   "execution_count": 20,
   "metadata": {},
   "outputs": [
    {
     "name": "stdout",
     "output_type": "stream",
     "text": [
      "危ない敵 lv.10\n",
      "14.399999999999999\n",
      "3.0\n",
      "1.2\n"
     ]
    }
   ],
   "source": [
    "print(b.current_battle_info()[2].name)\n",
    "print(b.current_battle_info()[2].attack)\n",
    "print(b.current_battle_info()[2].defence)\n",
    "print(b.current_battle_info()[2].health)"
   ]
  },
  {
   "cell_type": "markdown",
   "metadata": {},
   "source": [
    "めっちゃたかい攻撃力しているので, こいつから殺そうという発想になる"
   ]
  },
  {
   "cell_type": "code",
   "execution_count": 21,
   "metadata": {},
   "outputs": [],
   "source": [
    "# 1戦闘のスタート\n",
    "\n",
    "player = Player()\n",
    "enemy1 = Enemy(level=10)\n",
    "enemy2 = DangerousEnemy(level=10)\n",
    "\n",
    "b = Battle()\n",
    "b.appry_unit(player)\n",
    "b.appry_unit(enemy1)\n",
    "b.appry_unit(enemy2)"
   ]
  },
  {
   "cell_type": "code",
   "execution_count": 22,
   "metadata": {},
   "outputs": [],
   "source": [
    "# User should write this function, then apply battle class\n",
    "\n",
    "def my_algorithm(current_battle_info):\n",
    "    \n",
    "    skill_list = [skill.name for skill in current_battle_info[0].skills]\n",
    "    \n",
    "    enemies = [unit for unit in current_battle_info if not unit.isPlayer]\n",
    "    enemy_index = np.argmax([enemy.attack for enemy in enemies])  #敵で攻撃力が高いやつを対象にする\n",
    "    target_index = current_battle_info.index(enemies[enemy_index])\n",
    "    \n",
    "    return 1, [target_index]"
   ]
  },
  {
   "cell_type": "code",
   "execution_count": 23,
   "metadata": {},
   "outputs": [],
   "source": [
    "b.apply_algorithm(my_algorithm)"
   ]
  },
  {
   "cell_type": "code",
   "execution_count": 24,
   "metadata": {},
   "outputs": [
    {
     "name": "stdout",
     "output_type": "stream",
     "text": [
      "ターン1\n",
      "オレサマ  HP :11\n",
      "敵 lv.10  HP :12\n",
      "危ない敵 lv.10  HP :1\n",
      "オレサマの強攻撃\n",
      "危ない敵 lv.10に6.0のダメージ\n",
      "オレサマのすばやさが下がった\n",
      "危ない敵 lv.10は死んだ\n",
      "敵 lv.10の攻撃\n",
      "オレサマに1.0のダメージ\n",
      "敵 lv.10の攻撃力があがった\n",
      "ターン2\n",
      "オレサマ  HP :10.0\n",
      "敵 lv.10  HP :12\n",
      "オレサマの強攻撃\n",
      "敵 lv.10に6.0のダメージ\n",
      "オレサマのすばやさが下がった\n",
      "敵 lv.10の攻撃\n",
      "オレサマに1.0のダメージ\n",
      "敵 lv.10の攻撃力があがった\n",
      "ターン3\n",
      "敵 lv.10  HP :6.0\n",
      "オレサマ  HP :9.0\n",
      "敵 lv.10の攻撃\n",
      "オレサマに1.0のダメージ\n",
      "敵 lv.10の攻撃力があがった\n",
      "オレサマの強攻撃\n",
      "敵 lv.10に6.0のダメージ\n",
      "オレサマのすばやさが下がった\n",
      "敵 lv.10は死んだ\n",
      "Player Win!\n"
     ]
    }
   ],
   "source": [
    "b.process()"
   ]
  },
  {
   "cell_type": "markdown",
   "metadata": {},
   "source": [
    "## 勝てた."
   ]
  },
  {
   "cell_type": "markdown",
   "metadata": {},
   "source": [
    "### その他の要素\n",
    " - 回復も入れてみた\n",
    " - ただし, ステータス下がるようにしたら回復のメリット死んでいる気がする\n",
    "  - むしろ早く倒せなくなった.\n",
    " - MPとかいれなければいけないのか\n",
    " - unitをリストで渡しているだけなので, 何ターン目かみたいな情報は全然ないな."
   ]
  },
  {
   "cell_type": "code",
   "execution_count": 25,
   "metadata": {},
   "outputs": [],
   "source": [
    "# 1戦闘のスタート\n",
    "\n",
    "player = Player()\n",
    "enemy1 = Enemy(level=20)\n",
    "enemy2 = DangerousEnemy(level=20)\n",
    "\n",
    "b = Battle()\n",
    "b.appry_unit(player)\n",
    "b.appry_unit(enemy1)\n",
    "b.appry_unit(enemy2)"
   ]
  },
  {
   "cell_type": "code",
   "execution_count": 26,
   "metadata": {},
   "outputs": [],
   "source": [
    "# User should write this function, then apply battle class\n",
    "\n",
    "def my_algorithm(current_battle_info):\n",
    "    \n",
    "    player = [unit for unit in current_battle_info if unit.isPlayer][0]\n",
    "    player_index = current_battle_info.index(player)\n",
    "    player_skill_names = [skill.name for skill in player.skills]\n",
    "    \n",
    "    if player.health < 3:\n",
    "        return player_skill_names.index('回復'), [player_index]\n",
    "        \n",
    "    enemies = [unit for unit in current_battle_info if not unit.isPlayer]\n",
    "    enemy_index = np.argmin([enemy.health for enemy in enemies])\n",
    "    target_index = current_battle_info.index(enemies[enemy_index])\n",
    "    \n",
    "    return 1, [target_index]"
   ]
  },
  {
   "cell_type": "code",
   "execution_count": 27,
   "metadata": {},
   "outputs": [],
   "source": [
    "b.apply_algorithm(my_algorithm)"
   ]
  },
  {
   "cell_type": "code",
   "execution_count": 28,
   "metadata": {},
   "outputs": [
    {
     "name": "stdout",
     "output_type": "stream",
     "text": [
      "ターン1\n",
      "敵 lv.20  HP :14\n",
      "オレサマ  HP :11\n",
      "危ない敵 lv.20  HP :1\n",
      "敵 lv.20の攻撃\n",
      "オレサマに1.0のダメージ\n",
      "敵 lv.20の攻撃力があがった\n",
      "オレサマの強攻撃\n",
      "危ない敵 lv.20に4.0のダメージ\n",
      "オレサマのすばやさが下がった\n",
      "危ない敵 lv.20は死んだ\n",
      "ターン2\n",
      "敵 lv.20  HP :14\n",
      "オレサマ  HP :10.0\n",
      "敵 lv.20の攻撃\n",
      "オレサマに1.0のダメージ\n",
      "敵 lv.20の攻撃力があがった\n",
      "オレサマの強攻撃\n",
      "敵 lv.20に4.0のダメージ\n",
      "オレサマのすばやさが下がった\n",
      "ターン3\n",
      "敵 lv.20  HP :10.0\n",
      "オレサマ  HP :9.0\n",
      "敵 lv.20の攻撃\n",
      "オレサマに2.0のダメージ\n",
      "敵 lv.20の攻撃力があがった\n",
      "オレサマの強攻撃\n",
      "敵 lv.20に4.0のダメージ\n",
      "オレサマのすばやさが下がった\n",
      "ターン4\n",
      "敵 lv.20  HP :6.0\n",
      "オレサマ  HP :7.0\n",
      "敵 lv.20の攻撃\n",
      "オレサマに3.0のダメージ\n",
      "敵 lv.20の攻撃力があがった\n",
      "オレサマの強攻撃\n",
      "敵 lv.20に4.0のダメージ\n",
      "オレサマのすばやさが下がった\n",
      "ターン5\n",
      "敵 lv.20  HP :2.0\n",
      "オレサマ  HP :4.0\n",
      "敵 lv.20の攻撃\n",
      "オレサマに4.0のダメージ\n",
      "敵 lv.20の攻撃力があがった\n",
      "オレサマの回復\n",
      "aa回復\n",
      "オレサマは20回復した\n",
      "オレサマの攻撃力が下がった\n",
      "ターン6\n",
      "敵 lv.20  HP :2.0\n",
      "オレサマ  HP :21.0\n",
      "敵 lv.20の攻撃\n",
      "オレサマに5.0のダメージ\n",
      "敵 lv.20の攻撃力があがった\n",
      "オレサマの強攻撃\n",
      "敵 lv.20に1.0のダメージ\n",
      "オレサマのすばやさが下がった\n",
      "ターン7\n",
      "敵 lv.20  HP :1.0\n",
      "オレサマ  HP :16.0\n",
      "敵 lv.20の攻撃\n",
      "オレサマに6.0のダメージ\n",
      "敵 lv.20の攻撃力があがった\n",
      "オレサマの強攻撃\n",
      "敵 lv.20に1.0のダメージ\n",
      "オレサマのすばやさが下がった\n",
      "敵 lv.20は死んだ\n",
      "Player Win!\n"
     ]
    }
   ],
   "source": [
    "b.process()"
   ]
  },
  {
   "cell_type": "code",
   "execution_count": null,
   "metadata": {},
   "outputs": [],
   "source": []
  },
  {
   "cell_type": "code",
   "execution_count": null,
   "metadata": {},
   "outputs": [],
   "source": []
  },
  {
   "cell_type": "code",
   "execution_count": null,
   "metadata": {},
   "outputs": [],
   "source": []
  },
  {
   "cell_type": "code",
   "execution_count": null,
   "metadata": {},
   "outputs": [],
   "source": []
  },
  {
   "cell_type": "code",
   "execution_count": null,
   "metadata": {},
   "outputs": [],
   "source": []
  },
  {
   "cell_type": "code",
   "execution_count": null,
   "metadata": {},
   "outputs": [],
   "source": []
  },
  {
   "cell_type": "code",
   "execution_count": null,
   "metadata": {},
   "outputs": [],
   "source": []
  },
  {
   "cell_type": "code",
   "execution_count": null,
   "metadata": {},
   "outputs": [],
   "source": []
  },
  {
   "cell_type": "code",
   "execution_count": null,
   "metadata": {},
   "outputs": [],
   "source": []
  },
  {
   "cell_type": "code",
   "execution_count": null,
   "metadata": {},
   "outputs": [],
   "source": []
  },
  {
   "cell_type": "code",
   "execution_count": null,
   "metadata": {},
   "outputs": [],
   "source": []
  },
  {
   "cell_type": "code",
   "execution_count": null,
   "metadata": {},
   "outputs": [],
   "source": []
  },
  {
   "cell_type": "code",
   "execution_count": null,
   "metadata": {},
   "outputs": [],
   "source": []
  },
  {
   "cell_type": "code",
   "execution_count": null,
   "metadata": {},
   "outputs": [],
   "source": []
  }
 ],
 "metadata": {
  "kernelspec": {
   "display_name": "Python 3",
   "language": "python",
   "name": "python3"
  },
  "language_info": {
   "codemirror_mode": {
    "name": "ipython",
    "version": 3
   },
   "file_extension": ".py",
   "mimetype": "text/x-python",
   "name": "python",
   "nbconvert_exporter": "python",
   "pygments_lexer": "ipython3",
   "version": "3.6.8"
  }
 },
 "nbformat": 4,
 "nbformat_minor": 4
}
